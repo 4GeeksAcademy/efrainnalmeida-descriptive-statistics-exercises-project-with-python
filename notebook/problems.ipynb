{
    "cells": [
        {
            "cell_type": "markdown",
            "id": "ac622319",
            "metadata": {},
            "source": [
                "# Descriptive statistics problems"
            ]
        },
        {
            "cell_type": "markdown",
            "id": "5e0ab0d5",
            "metadata": {},
            "source": [
                "### Exercise 1\n",
                "\n",
                "We will use NumPy to obtain information to describe statistically.\n",
                "\n",
                "- Generate an array of 100 elements following a normal distribution.\n",
                "- Generate an array of 100 elements following a chi-square distribution with 3 degrees of freedom.\n",
                "- Calculate the main metrics and statistical measures that best describe the two vectors."
            ]
        },
        {
            "cell_type": "code",
            "execution_count": 7,
            "id": "34720ab6",
            "metadata": {},
            "outputs": [
                {
                    "data": {
                        "text/html": [
                            "<div>\n",
                            "<style scoped>\n",
                            "    .dataframe tbody tr th:only-of-type {\n",
                            "        vertical-align: middle;\n",
                            "    }\n",
                            "\n",
                            "    .dataframe tbody tr th {\n",
                            "        vertical-align: top;\n",
                            "    }\n",
                            "\n",
                            "    .dataframe thead th {\n",
                            "        text-align: right;\n",
                            "    }\n",
                            "</style>\n",
                            "<table border=\"1\" class=\"dataframe\">\n",
                            "  <thead>\n",
                            "    <tr style=\"text-align: right;\">\n",
                            "      <th></th>\n",
                            "      <th>Mean</th>\n",
                            "      <th>Median</th>\n",
                            "      <th>Variance</th>\n",
                            "      <th>Standard Deviation</th>\n",
                            "      <th>Min</th>\n",
                            "      <th>Max</th>\n",
                            "      <th>Skewness</th>\n",
                            "      <th>Kurtosis</th>\n",
                            "    </tr>\n",
                            "  </thead>\n",
                            "  <tbody>\n",
                            "    <tr>\n",
                            "      <th>Normal Distribution</th>\n",
                            "      <td>-0.032929</td>\n",
                            "      <td>-0.034787</td>\n",
                            "      <td>0.833465</td>\n",
                            "      <td>0.912943</td>\n",
                            "      <td>-2.657047</td>\n",
                            "      <td>2.030375</td>\n",
                            "      <td>-0.252131</td>\n",
                            "      <td>-0.048198</td>\n",
                            "    </tr>\n",
                            "    <tr>\n",
                            "      <th>Chi-Square Distribution</th>\n",
                            "      <td>2.973688</td>\n",
                            "      <td>2.383676</td>\n",
                            "      <td>4.892229</td>\n",
                            "      <td>2.211838</td>\n",
                            "      <td>0.098574</td>\n",
                            "      <td>10.450256</td>\n",
                            "      <td>1.267678</td>\n",
                            "      <td>1.356177</td>\n",
                            "    </tr>\n",
                            "  </tbody>\n",
                            "</table>\n",
                            "</div>"
                        ],
                        "text/plain": [
                            "                             Mean    Median  Variance  Standard Deviation  \\\n",
                            "Normal Distribution     -0.032929 -0.034787  0.833465            0.912943   \n",
                            "Chi-Square Distribution  2.973688  2.383676  4.892229            2.211838   \n",
                            "\n",
                            "                              Min        Max  Skewness  Kurtosis  \n",
                            "Normal Distribution     -2.657047   2.030375 -0.252131 -0.048198  \n",
                            "Chi-Square Distribution  0.098574  10.450256  1.267678  1.356177  "
                        ]
                    },
                    "metadata": {},
                    "output_type": "display_data"
                }
            ],
            "source": [
                "import numpy as np\n",
                "import pandas as pd\n",
                "import scipy.stats as stats\n",
                "\n",
                "# Generar un array de 100 elementos con una distribución normal (media=0, desviación estándar=1)\n",
                "normal_array = np.random.normal(loc=0, scale=1, size=100)\n",
                "\n",
                "# Generar un arreglo de 100 elementos con una distribución chi-cuadrado con 3 grados de libertad\n",
                "chi_square_array = np.random.chisquare(df=3, size=100)\n",
                "\n",
                "# Función para calcular las estadísticas principales\n",
                "def calculate_statistics(data, name):\n",
                "    stats_dict = {\n",
                "        \"Mean\": np.mean(data),\n",
                "        \"Median\": np.median(data),\n",
                "        \"Variance\": np.var(data, ddof=1),\n",
                "        \"Standard Deviation\": np.std(data, ddof=1),\n",
                "        \"Min\": np.min(data),\n",
                "        \"Max\": np.max(data),\n",
                "        \"Skewness\": stats.skew(data),\n",
                "        \"Kurtosis\": stats.kurtosis(data),\n",
                "    }\n",
                "    return pd.DataFrame(stats_dict, index=[name])\n",
                "\n",
                "# Calcular estadísticas para ambos arreglos\n",
                "stats_normal = calculate_statistics(normal_array, \"Normal Distribution\")\n",
                "stats_chi_square = calculate_statistics(chi_square_array, \"Chi-Square Distribution\")\n",
                "\n",
                "# Combinar los resultados en un solo DataFrame\n",
                "stats_df = pd.concat([stats_normal, stats_chi_square])\n",
                "\n",
                "# Mostrar los resultados\n",
                "display(stats_df)"
            ]
        },
        {
            "cell_type": "markdown",
            "id": "46c70c3d",
            "metadata": {},
            "source": [
                "### Exercise 2\n",
                "\n",
                "Write a Python program to calculate the standard deviation of the following data:\n",
                "\n",
                "```py\n",
                "data = [4, 2, 5, 8, 6]\n",
                "```"
            ]
        },
        {
            "cell_type": "code",
            "execution_count": 6,
            "id": "d590308e",
            "metadata": {},
            "outputs": [
                {
                    "data": {
                        "text/plain": [
                            "2.23606797749979"
                        ]
                    },
                    "execution_count": 6,
                    "metadata": {},
                    "output_type": "execute_result"
                }
            ],
            "source": [
                "# Definir una función para calcular la desviación estándar manualmente\n",
                "def calcular_desviacion_estandar(datos):\n",
                "    # Calcular la media\n",
                "    media = sum(datos) / len(datos)\n",
                "    \n",
                "    # Calcular la suma de las diferencias al cuadrado\n",
                "    suma_diferencias_cuadradas = sum((x - media) ** 2 for x in datos)\n",
                "    \n",
                "    # Calcular la desviación estándar muestral (dividir entre n-1)\n",
                "    desviacion_estandar = (suma_diferencias_cuadradas / (len(datos) - 1)) ** 0.5\n",
                "    \n",
                "    return desviacion_estandar\n",
                "\n",
                "# Datos proporcionados\n",
                "data = [4, 2, 5, 8, 6]\n",
                "\n",
                "# Calcular la desviación estándar usando la función creada\n",
                "std_dev_manual = calcular_desviacion_estandar(data)\n",
                "\n",
                "# Mostrar el resultado\n",
                "std_dev_manual"
            ]
        }
    ],
    "metadata": {
        "kernelspec": {
            "display_name": "env1",
            "language": "python",
            "name": "python3"
        },
        "language_info": {
            "codemirror_mode": {
                "name": "ipython",
                "version": 3
            },
            "file_extension": ".py",
            "mimetype": "text/x-python",
            "name": "python",
            "nbconvert_exporter": "python",
            "pygments_lexer": "ipython3",
            "version": "3.11.4"
        }
    },
    "nbformat": 4,
    "nbformat_minor": 5
}
